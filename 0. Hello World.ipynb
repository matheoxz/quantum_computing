{
 "cells": [
  {
   "cell_type": "code",
   "execution_count": null,
   "id": "d734dc3a-9500-4772-afd9-336b8262a4d6",
   "metadata": {},
   "outputs": [],
   "source": [
    "!pip install qiskit\n",
    "!pip install qiskit-ibm-runtime\n",
    "!pip install qiskit[visualization]"
   ]
  },
  {
   "cell_type": "markdown",
   "id": "33f3214d-5cfc-4bcf-ba60-f23a8ec7974d",
   "metadata": {},
   "source": [
    "<h1>Authentication: </h1>"
   ]
  },
  {
   "cell_type": "code",
   "execution_count": 1,
   "id": "b00ca350-79f8-4296-aeff-74affb31cd61",
   "metadata": {},
   "outputs": [],
   "source": [
    "IBMToken = \"your_token\""
   ]
  },
  {
   "cell_type": "code",
   "execution_count": 2,
   "id": "241ad98f-5aba-43d1-93c5-24f23e5d5587",
   "metadata": {},
   "outputs": [],
   "source": [
    "from qiskit_ibm_runtime import QiskitRuntimeService\n",
    "QiskitRuntimeService.save_account(channel = \"ibm_quantum\", token = IBMToken, set_as_default = True, overwrite = True)\n",
    "service = QiskitRuntimeService()"
   ]
  },
  {
   "cell_type": "markdown",
   "id": "db1f6406-c736-412a-8de9-aff68264d75f",
   "metadata": {},
   "source": [
    "<h1>Testing the environment</h1>"
   ]
  },
  {
   "cell_type": "code",
   "execution_count": 4,
   "id": "fabf34c2-123f-4e0b-9d7c-496846360c49",
   "metadata": {},
   "outputs": [
    {
     "name": "stdout",
     "output_type": "stream",
     "text": [
      "job id: cmeo7ighu2povi5p9p90\n",
      "SamplerResult(quasi_dists=[{0: 1.0}], metadata=[{'shots': 4000, 'circuit_metadata': {}}])\n"
     ]
    }
   ],
   "source": [
    "from qiskit import QuantumCircuit\n",
    "from qiskit_ibm_runtime import QiskitRuntimeService, Sampler\n",
    " \n",
    " # Create empty circuit\n",
    "example_circuit = QuantumCircuit(2)\n",
    "example_circuit.measure_all()\n",
    "\n",
    "backend = service.backend(\"ibmq_qasm_simulator\")\n",
    "job = Sampler(backend).run(example_circuit)\n",
    "print(f\"job id: {job.job_id()}\")\n",
    "result = job.result()\n",
    "print(result)"
   ]
  },
  {
   "cell_type": "markdown",
   "id": "433b8c8d-5063-4639-a0ea-bf603a8080be",
   "metadata": {},
   "source": [
    "<h1>Hello World</h1>\n",
    "Creating a Bell State or two qubits entangled\n",
    "<h3>Creating the circuit</h3>\n",
    "To create a Bell State we need a pair of qubits. The first one need to be in superposition, so we apply the Hadamart gate on it. Then, the Controlled-X will control the second qubit with the result of the first superposition collapse, resulting in the Bell State."
   ]
  },
  {
   "cell_type": "code",
   "execution_count": 5,
   "id": "6ea0fd53-f182-4edc-8b94-1fccc826772b",
   "metadata": {},
   "outputs": [
    {
     "name": "stderr",
     "output_type": "stream",
     "text": [
      "C:\\Users\\mathe\\AppData\\Local\\Programs\\Python\\Python310\\lib\\site-packages\\qiskit\\visualization\\circuit\\matplotlib.py:266: FutureWarning: The default matplotlib drawer scheme will be changed to \"iqp\" in a following release. To silence this warning, specify the current default explicitly as style=\"clifford\", or the new default as style=\"iqp\".\n",
      "  self._style, def_font_ratio = load_style(self._style)\n"
     ]
    },
    {
     "data": {
      "image/png": "[encoded data removed]",
      "text/plain": [
       "<Figure size 287.294x200.667 with 1 Axes>"
      ]
     },
     "execution_count": 5,
     "metadata": {},
     "output_type": "execute_result"
    }
   ],
   "source": [
    "#creating a circuit with 2 qubits and 2 classical bit\n",
    "bellStateCircuit = QuantumCircuit(2)\n",
    "#adding Hadamart to qubit 0\n",
    "bellStateCircuit.h(0)\n",
    "#performing CX on qubit 1 controlled by qubit 0\n",
    "bellStateCircuit.cx(0, 1)\n",
    "#drawing the circuit\n",
    "bellStateCircuit.draw(\"mpl\")"
   ]
  },
  {
   "cell_type": "markdown",
   "id": "d5c15451-d389-468b-9cd7-f803b35acba0",
   "metadata": {},
   "source": [
    "<h3>Executing the circuit</h3>\n",
    "Quantum computers produce some random results, so we run the circuit multiple times to analyze the final result.\n",
    "In this example we use the Estimator to check the correlation of the two qubits with Pauli gates."
   ]
  },
  {
   "cell_type": "code",
   "execution_count": 6,
   "id": "e484aa05-b3cc-43aa-99cc-e458993cfb08",
   "metadata": {},
   "outputs": [],
   "source": [
    "from qiskit.quantum_info import Pauli\n",
    "#create the Pauli Operators to check correlations between the qubits\n",
    "pauliObservables = [Pauli('IZ'), Pauli('IX'), Pauli('ZI'), Pauli('XI'), Pauli('ZZ'), Pauli('XX')]"
   ]
  },
  {
   "cell_type": "code",
   "execution_count": 7,
   "id": "633190f2-43e0-4ca9-b586-e9462449c5c0",
   "metadata": {},
   "outputs": [
    {
     "data": {
      "text/plain": [
       "EstimatorResult(values=array([-0.02046327, -0.02216854, -0.0282455 , -0.02497066,  0.97788987,\n",
       "        0.9765802 ]), metadata=[{'variance': 1.139138895589845, 'shots': 5008, 'readout_mitigation_num_twirled_circuits': 16, 'readout_mitigation_shots_calibration': 8192, 'warning': 'Optimization level clipped from 3 to 1'}, {'variance': 1.139066196723299, 'shots': 5008, 'readout_mitigation_num_twirled_circuits': 16, 'readout_mitigation_shots_calibration': 8192, 'warning': 'Optimization level clipped from 3 to 1'}, {'variance': 1.04987849377627, 'shots': 5008, 'readout_mitigation_num_twirled_circuits': 16, 'readout_mitigation_shots_calibration': 8192, 'warning': 'Optimization level clipped from 3 to 1'}, {'variance': 1.0500527681886485, 'shots': 5008, 'readout_mitigation_num_twirled_circuits': 16, 'readout_mitigation_shots_calibration': 8192, 'warning': 'Optimization level clipped from 3 to 1'}, {'variance': 0.23868903458215404, 'shots': 5008, 'readout_mitigation_num_twirled_circuits': 16, 'readout_mitigation_shots_calibration': 8192, 'warning': 'Optimization level clipped from 3 to 1'}, {'variance': 0.24124875309698676, 'shots': 5008, 'readout_mitigation_num_twirled_circuits': 16, 'readout_mitigation_shots_calibration': 8192, 'warning': 'Optimization level clipped from 3 to 1'}])"
      ]
     },
     "execution_count": 7,
     "metadata": {},
     "output_type": "execute_result"
    }
   ],
   "source": [
    "from qiskit_ibm_runtime import Estimator, Options\n",
    "\n",
    "backend = service.least_busy(simulator = False, operational = True)\n",
    "\n",
    "#setting error mitigation options\n",
    "options = Options()\n",
    "# apply minimal mitigation cost on readout\n",
    "options.resilience_level = 1\n",
    "# apply probabilistic error cancelation method\n",
    "options.optimization_level = 3\n",
    "\n",
    "#creating the Estimator\n",
    "estimator = Estimator(backend, options = options)\n",
    "\n",
    "#run the circuit\n",
    "job = estimator.run(circuits = [bellStateCircuit] * len(pauliObservables) , observables = pauliObservables, shots = 5000)\n",
    "\n",
    "#check the results\n",
    "job.result()"
   ]
  },
  {
   "cell_type": "markdown",
   "id": "68378164-ffde-4951-a32c-dac1ca27dd0a",
   "metadata": {},
   "source": [
    "<h3> Analyzing the results</h3>\n",
    "Now we plot the results to check for the correlations"
   ]
  },
  {
   "cell_type": "code",
   "execution_count": 8,
   "id": "1cff83a3-786e-4097-b1d7-f613d19acf78",
   "metadata": {},
   "outputs": [
    {
     "data": {
      "image/png": "[encoded data removed]",
      "text/plain": [
       "<Figure size 640x480 with 1 Axes>"
      ]
     },
     "metadata": {},
     "output_type": "display_data"
    }
   ],
   "source": [
    "import matplotlib.pyplot as plt\n",
    "import numpy as np\n",
    " \n",
    "# data\n",
    "data = ['IZ', 'IX', 'ZI', 'XI', 'ZZ', 'XX']\n",
    "values = job.result().values\n",
    " \n",
    "# creating error bars\n",
    "error = []\n",
    "for case in job.result().metadata:\n",
    "    error.append(2*np.sqrt(case['variance']/case['shots']))\n",
    " \n",
    "# plotting graph\n",
    "plt.plot(data, values)\n",
    "plt.errorbar(data, values, yerr = error, fmt ='o')\n",
    "plt.xlabel('Observables')\n",
    "plt.ylabel('Values')\n",
    "plt.show()"
   ]
  }
 ],
 "metadata": {
  "kernelspec": {
   "display_name": "Python 3 (ipykernel)",
   "language": "python",
   "name": "python3"
  },
  "language_info": {
   "codemirror_mode": {
    "name": "ipython",
    "version": 3
   },
   "file_extension": ".py",
   "mimetype": "text/x-python",
   "name": "python",
   "nbconvert_exporter": "python",
   "pygments_lexer": "ipython3",
   "version": "3.10.6"
  }
 },
 "nbformat": 4,
 "nbformat_minor": 5
}
