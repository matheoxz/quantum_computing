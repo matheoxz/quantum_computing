{
 "cells": [
  {
   "cell_type": "code",
   "execution_count": null,
   "id": "bf0d0b44-087d-4c04-8a1c-06f2b6bc0784",
   "metadata": {},
   "outputs": [],
   "source": [
    "from qiskit import *\n",
    "import numpy as np\n",
    "from qiskit.visualization import visualize_transition, plot_bloch_multivector, plot_histogram"
   ]
  },
  {
   "cell_type": "markdown",
   "id": "f9363e69-84ff-42da-9926-33af3bd67eef",
   "metadata": {},
   "source": [
    "<h1>Exploring Qubits and Quantum Circuits</h1>\n",
    "<p>A Quantum Circuit is made of unitary and reversible operations. A circuit is a sequence of logic gates applied to the qubits to execute operations. The circuit runs multiple times so we can check a distributions of the results.</p>\n",
    "\n",
    "<p></p>\n",
    "<h2>One Qubit operations</h2>\n",
    "<h3>Bit Flip or X-GATE</h3>\n",
    "<p>Similar to a classical NOT gate, where the given value of the bit is reversed</p>\n",
    "\n",
    "| State | Result |\n",
    "|-------|--------|\n",
    "|$\\ket{0}$ | $\\ket{1}$|\n",
    "|$\\ket{1}$| $\\ket{0}$|\n",
    "\n",
    "<p> The Unitary matrix that represents the X-GATE is </p>\n",
    "\n",
    "$$\n",
    " \\gamma_x = \n",
    " \\begin{bmatrix}\n",
    "0 & 1 \\\\\n",
    "1 & 0 \n",
    "\\end{bmatrix}  = \n",
    "\\ket{0}\\bra{1} + \\ket{1}\\bra{0}\n",
    "$$\n",
    "\n",
    "$$\n",
    "    \\gamma_x \\ket{0} = \n",
    " \\begin{bmatrix}\n",
    "0 & 1 \\\\\n",
    "1 & 0 \n",
    "\\end{bmatrix}\n",
    " \\begin{bmatrix}\n",
    "1 \\\\\n",
    "0 \n",
    "\\end{bmatrix} = \n",
    " \\begin{bmatrix}\n",
    "0 \\\\\n",
    "1 \n",
    "\\end{bmatrix}\n",
    "$$\n",
    "\n",
    "$$\n",
    "\\gamma_x \\ket{1} = \n",
    " \\begin{bmatrix}\n",
    "0 & 1 \\\\\n",
    "1 & 0 \n",
    "\\end{bmatrix}\n",
    " \\begin{bmatrix}\n",
    "0 \\\\\n",
    "1 \n",
    "\\end{bmatrix} = \n",
    " \\begin{bmatrix}\n",
    "1 \\\\\n",
    "0 \n",
    "\\end{bmatrix}\n",
    "$$"
   ]
  },
  {
   "cell_type": "code",
   "execution_count": null,
   "id": "b74e66dc-07cc-430d-8744-bab267c77791",
   "metadata": {},
   "outputs": [],
   "source": [
    "xgateCircuit = QuantumCircuit(1)\n",
    "xgateCircuit.x(0)\n",
    "xgateCircuit.draw(\"mpl\")"
   ]
  },
  {
   "cell_type": "code",
   "execution_count": null,
   "id": "f5f4b7c6-27a1-49b0-b848-f9463ce3841b",
   "metadata": {},
   "outputs": [],
   "source": [
    "visualize_transition(xgateCircuit)"
   ]
  },
  {
   "cell_type": "markdown",
   "id": "1320e1c3-d792-4a84-a490-00548498ed0f",
   "metadata": {},
   "source": [
    "<h3>Phase Flip or Z-GATE</h3>\n",
    "<p>Invert the qubit phase, rotating it on 180° at Z-axis</p>\n",
    "\n",
    "$$\n",
    " \\gamma_z = \n",
    " \\begin{bmatrix}\n",
    "1 & 0 \\\\\n",
    "0 & -1 \n",
    "\\end{bmatrix} \n",
    "$$\n",
    "\n",
    "$$\n",
    "    \\gamma_z \\ket{+} = \n",
    " \\begin{bmatrix}\n",
    "1 & 0 \\\\\n",
    "0 & -1 \n",
    "\\end{bmatrix} \n",
    " \\begin{bmatrix}\n",
    "\\frac{1}{\\sqrt{2}} \\\\\n",
    "\\frac{1}{\\sqrt{2}} \n",
    "\\end{bmatrix} = \n",
    " \\begin{bmatrix}\n",
    "\\frac{1}{\\sqrt{2}} \\\\\n",
    "-\\frac{1}{\\sqrt{2}} \n",
    "\\end{bmatrix} = \\ket{-}\n",
    "$$\n",
    "\n",
    "$$\n",
    "\\gamma_z \\ket{-} = \n",
    " \\begin{bmatrix}\n",
    "1 & 0 \\\\\n",
    "0 & -1 \n",
    "\\end{bmatrix} \n",
    " \\begin{bmatrix}\n",
    "\\frac{1}{\\sqrt{2}} \\\\\n",
    "-\\frac{1}{\\sqrt{2}} \n",
    "\\end{bmatrix} = \n",
    " \\begin{bmatrix}\n",
    "\\frac{1}{\\sqrt{2}} \\\\\n",
    "\\frac{1}{\\sqrt{2}} \n",
    "\\end{bmatrix} = \\ket{+}\n",
    "$$\n"
   ]
  },
  {
   "cell_type": "code",
   "execution_count": null,
   "id": "5704541f-17ef-477e-8539-b3ea3f0b5f05",
   "metadata": {},
   "outputs": [],
   "source": [
    "zgateCircuit = QuantumCircuit(1)\n",
    "zgateCircuit.h(0) #instead of initializing the qubit with |+> or |->, we apply the H-GATE because visualize_transition doesn't support initilizations\n",
    "zgateCircuit.z(0)\n",
    "zgateCircuit.draw(\"mpl\")"
   ]
  },
  {
   "cell_type": "code",
   "execution_count": null,
   "id": "fffe1fd9-df9e-4715-8c29-a7be45542b15",
   "metadata": {},
   "outputs": [],
   "source": [
    "visualize_transition(zgateCircuit)"
   ]
  },
  {
   "cell_type": "markdown",
   "id": "4ce327c9-86e3-4a75-95ab-a6f56baf72d8",
   "metadata": {},
   "source": [
    "<h3>Bit Flip + Phase Flip = Y-GATE</h3>\n",
    "\n",
    "$$\n",
    "\\gamma_y = \n",
    "\\begin{bmatrix}\n",
    "0 & -i \\\\\n",
    "i & 0 \n",
    "\\end{bmatrix} = i  \\gamma_x  \\gamma_z\n",
    "$$"
   ]
  },
  {
   "cell_type": "code",
   "execution_count": null,
   "id": "9d5affc5-e478-47a5-9faa-aba42de0a0de",
   "metadata": {},
   "outputs": [],
   "source": [
    "ygateCircuit = QuantumCircuit(1)\n",
    "ygateCircuit.h(0)\n",
    "ygateCircuit.y(0)\n",
    "ygateCircuit.draw(\"mpl\")"
   ]
  },
  {
   "cell_type": "code",
   "execution_count": null,
   "id": "c3862d09-92a1-4f66-a2ed-6fcd19cf38bb",
   "metadata": {},
   "outputs": [],
   "source": [
    "visualize_transition(ygateCircuit)"
   ]
  },
  {
   "cell_type": "markdown",
   "id": "452bf92a-4da2-4059-bd4a-20e203ba1ee0",
   "metadata": {},
   "source": [
    "<h3>Hadamard Gate or H-GATE</h3>\n",
    "<p>Creates a superposition state</p>\n",
    "<p>Takes a $ \\ket{0} $ state to a $ \\ket{+} $ state.</p>\n",
    "<p>Takes a $ \\ket{1} $ state to a $ \\ket{-} $ state.</p>\n",
    "\n",
    "$$\n",
    "    H = \n",
    "    \\begin{bmatrix}\n",
    "\\frac{1}{\\sqrt{2}} & \\frac{1}{\\sqrt{2}} \\\\\n",
    "\\frac{1}{\\sqrt{2}} & -\\frac{1}{\\sqrt{2}}\n",
    "\\end{bmatrix} \n",
    "$$\n",
    "\n",
    "$$\n",
    "    H \\ket{0} =     \\begin{bmatrix}\n",
    "\\frac{1}{\\sqrt{2}} & \\frac{1}{\\sqrt{2}} \\\\\n",
    "\\frac{1}{\\sqrt{2}} & -\\frac{1}{\\sqrt{2}}\n",
    "\\end{bmatrix} \n",
    "\\begin{bmatrix}\n",
    "1 \\\\\n",
    "0\n",
    "\\end{bmatrix} = \n",
    " \\begin{bmatrix}\n",
    "\\frac{1}{\\sqrt{2}} \\\\\n",
    "\\frac{1}{\\sqrt{2}} \n",
    "\\end{bmatrix} = \\ket{+}\n",
    "$$\n",
    "\n",
    "$$\n",
    "    H \\ket{1} =     \\begin{bmatrix}\n",
    "\\frac{1}{\\sqrt{2}} & \\frac{1}{\\sqrt{2}} \\\\\n",
    "\\frac{1}{\\sqrt{2}} & -\\frac{1}{\\sqrt{2}}\n",
    "\\end{bmatrix} \n",
    "\\begin{bmatrix}\n",
    "0 \\\\\n",
    "1\n",
    "\\end{bmatrix} = \n",
    " \\begin{bmatrix}\n",
    "\\frac{1}{\\sqrt{2}} \\\\\n",
    "-\\frac{1}{\\sqrt{2}} \n",
    "\\end{bmatrix} = \\ket{-}\n",
    "$$\n",
    "\n",
    "$$\n",
    "H\\ket{+} = \\ket{0}\n",
    "$$\n",
    "$$\n",
    "H\\ket{-} = \\ket{1}\n",
    "$$"
   ]
  },
  {
   "cell_type": "code",
   "execution_count": null,
   "id": "ab2ad392-2f68-4866-9e3f-fcca760d7c64",
   "metadata": {},
   "outputs": [],
   "source": [
    "hadamard = QuantumCircuit(1)\n",
    "hadamard.h(0)\n",
    "hadamard.draw(\"mpl\")"
   ]
  },
  {
   "cell_type": "code",
   "execution_count": null,
   "id": "ee57d1d2-db7e-4a93-a75e-08dd4d878c03",
   "metadata": {},
   "outputs": [],
   "source": [
    "visualize_transition(hadamard)"
   ]
  },
  {
   "cell_type": "markdown",
   "id": "9828fc53-324e-4f1b-83bb-b51d83209f01",
   "metadata": {},
   "source": [
    "<h3>S-GATE</h3>\n",
    "<p>Adds 90° to the phase</p>\n",
    "\n",
    "$$\n",
    "    S = \n",
    "    \\begin{bmatrix}\n",
    "i & 0 \\\\\n",
    "0 & i\n",
    "\\end{bmatrix} \n",
    "$$\n",
    "\n",
    "\n",
    "$$\n",
    "S\\ket{+} = S\\ket{+i}\n",
    "$$\n",
    "$$\n",
    "S\\ket{-} = \\ket{-i}\n",
    "$$"
   ]
  },
  {
   "cell_type": "code",
   "execution_count": null,
   "id": "01800bde-51cf-402d-8e5a-e1c814882747",
   "metadata": {},
   "outputs": [],
   "source": [
    "sgateCircuit = QuantumCircuit(1)\n",
    "sgateCircuit.h(0)\n",
    "sgateCircuit.s(0)\n",
    "sgateCircuit.draw(\"mpl\")"
   ]
  },
  {
   "cell_type": "code",
   "execution_count": null,
   "id": "622f3cbe-d4bb-4219-866f-d60ffc421f33",
   "metadata": {},
   "outputs": [],
   "source": [
    "visualize_transition(sgateCircuit)"
   ]
  },
  {
   "cell_type": "markdown",
   "id": "e9523601-5c75-4dd0-93d8-3ce54f84e66d",
   "metadata": {},
   "source": [
    "<h2>Two Qubit Operations</h2>\n",
    "\n",
    "<h3>Controlled Not or CNOT</h3>\n",
    "<p>Like a XOR operation, it flips the second qubit if the first is $\\ket{1}$</p>"
   ]
  },
  {
   "cell_type": "code",
   "execution_count": null,
   "id": "94e05738-73d6-4eef-a66c-dddda81dc3c1",
   "metadata": {},
   "outputs": [],
   "source": [
    "cnotCircuit = QuantumCircuit(2)\n",
    "cnotCircuit.x(0)\n",
    "cnotCircuit.cx(0,1)\n",
    "cnotCircuit.draw(\"mpl\")"
   ]
  },
  {
   "cell_type": "code",
   "execution_count": null,
   "id": "19f741d1-ca2b-497a-a6fd-2ddefe0b1b91",
   "metadata": {},
   "outputs": [],
   "source": [
    "plot_bloch_multivector(cnotCircuit)"
   ]
  },
  {
   "cell_type": "code",
   "execution_count": null,
   "id": "5955851c-cfb0-4ef6-a24c-ec1da43ad7f9",
   "metadata": {},
   "outputs": [],
   "source": [
    "cnotCircuit = QuantumCircuit(2)\n",
    "cnotCircuit.cx(0,1)\n",
    "cnotCircuit.draw(\"mpl\")"
   ]
  },
  {
   "cell_type": "code",
   "execution_count": null,
   "id": "522806d6-22ed-4123-b4f5-777c5b1e46db",
   "metadata": {},
   "outputs": [],
   "source": [
    "plot_bloch_multivector(cnotCircuit)"
   ]
  },
  {
   "cell_type": "markdown",
   "id": "589d7841-fc2b-4ec4-9ac5-674d7724576d",
   "metadata": {},
   "source": [
    "<h3>SWAP</h3>\n",
    "<p>Swaps the two qubits</p>"
   ]
  },
  {
   "cell_type": "code",
   "execution_count": null,
   "id": "398f3870-87ea-4918-8f5c-e60a117969f6",
   "metadata": {},
   "outputs": [],
   "source": [
    "swapCircuit = QuantumCircuit(2)\n",
    "swapCircuit.h(0)\n",
    "swapCircuit.x(1)\n",
    "swapCircuit.swap(0, 1)\n",
    "swapCircuit.draw(\"mpl\")"
   ]
  },
  {
   "cell_type": "code",
   "execution_count": null,
   "id": "81e87d9f-593f-408d-a382-873c5d5e05b3",
   "metadata": {},
   "outputs": [],
   "source": [
    "swapCircuit = QuantumCircuit(2)\n",
    "swapCircuit.h(0)\n",
    "swapCircuit.x(1)\n",
    "plot_bloch_multivector(swapCircuit)"
   ]
  },
  {
   "cell_type": "code",
   "execution_count": null,
   "id": "2b0a1e27-5837-42bf-93cb-d13096b7d351",
   "metadata": {},
   "outputs": [],
   "source": [
    "swapCircuit.swap(0, 1)\n",
    "plot_bloch_multivector(swapCircuit)"
   ]
  },
  {
   "cell_type": "markdown",
   "id": "cd490b74-ca1a-4105-b0bc-b2dba8e84809",
   "metadata": {},
   "source": [
    "<h3>Entangled States</h3>\n",
    "<p>Entangled States can be implemented in many ways for various uses.</p>\n",
    "<p>There are four entangled states that are maximum entangled: the Bell States.</p>\n",
    "\n",
    "$ \\Phi^+ =\\frac{\\ket{00} + \\ket{11}}{\\sqrt{2}} $ $ \\Psi^+ =\\frac{\\ket{01} + \\ket{10}}{\\sqrt{2}} $\n",
    "<p></p>\n",
    "$\\Phi^- =\\frac{\\ket{00} - \\ket{11}}{\\sqrt{2}} $ $ \\Psi^- = \\frac{\\ket{01} - \\ket{10}}{\\sqrt{2}}$\n",
    "<p>Let's implement them in qiskit</p>\n"
   ]
  },
  {
   "cell_type": "code",
   "execution_count": null,
   "id": "dca2cf12-e496-4af9-969f-89a95d743b43",
   "metadata": {},
   "outputs": [],
   "source": [
    "#PHI+\n",
    "phiPlus = QuantumCircuit(2)\n",
    "phiPlus.h(0)\n",
    "phiPlus.cx(0, 1)\n",
    "phiPlus.draw(\"mpl\")"
   ]
  },
  {
   "cell_type": "markdown",
   "id": "f52b990d-4849-44f3-bec3-2af1bb82b2b9",
   "metadata": {
    "jp-MarkdownHeadingCollapsed": true
   },
   "source": [
    "<p>To visualize the result, we need to run the circuit.</p>\n",
    "<p>To do so, we can use simulators:</p>"
   ]
  },
  {
   "cell_type": "code",
   "execution_count": null,
   "id": "ae82496e-e156-4505-8124-eb712fbb5982",
   "metadata": {},
   "outputs": [],
   "source": [
    "!pip install qiskit-aer"
   ]
  },
  {
   "cell_type": "code",
   "execution_count": null,
   "id": "6303284e-c3c7-4423-98dc-77b093dfd41c",
   "metadata": {},
   "outputs": [],
   "source": [
    "simulator = Aer.get_backend('aer_simulator')"
   ]
  },
  {
   "cell_type": "markdown",
   "id": "e4e88f71-389c-4b75-b12f-3a295ef633a7",
   "metadata": {},
   "source": [
    "<p>Now we can run the circuit and check the results of the multiple shots.</p>"
   ]
  },
  {
   "cell_type": "code",
   "execution_count": null,
   "id": "34a82f3f-64bf-40d6-88fd-8410d4cc6af5",
   "metadata": {},
   "outputs": [],
   "source": [
    "def run_circuit_and_plot_histogram(circ, name):\n",
    "    circ.measure_all()\n",
    "    circ = transpile(phiPlus, simulator)\n",
    "    \n",
    "    # Run and get counts\n",
    "    result = simulator.run(circ).result()\n",
    "    counts = result.get_counts(circ)\n",
    "    return plot_histogram(counts, title='Bell-State '+name+' counts')"
   ]
  },
  {
   "cell_type": "code",
   "execution_count": null,
   "id": "2dfb0313-fd89-49fd-b6d2-55e7454e81a4",
   "metadata": {},
   "outputs": [],
   "source": [
    "run_circuit_and_plot_histogram(phiPlus, 'PHI+')"
   ]
  },
  {
   "cell_type": "code",
   "execution_count": null,
   "id": "929b141f-b587-48e8-a8d4-d671db0f8892",
   "metadata": {},
   "outputs": [],
   "source": [
    "#PHI-\n",
    "phiMinus = QuantumCircuit(2)\n",
    "phiMinus.x(0)\n",
    "phiMinus.h(0)\n",
    "phiMinus.cx(0, 1)\n",
    "phiMinus.draw(\"mpl\")"
   ]
  },
  {
   "cell_type": "code",
   "execution_count": null,
   "id": "fbaf3cdc-c580-4619-9778-eacd2b8056a8",
   "metadata": {},
   "outputs": [],
   "source": [
    "run_circuit_and_plot_histogram(phiMinus, 'PHI-')"
   ]
  },
  {
   "cell_type": "code",
   "execution_count": null,
   "id": "24bf56b0-f3b4-42d2-943b-541b8882c421",
   "metadata": {},
   "outputs": [],
   "source": [
    "#PSI+\n",
    "psiPlus = QuantumCircuit(2)\n",
    "psiPlus.h(0)\n",
    "psiPlus.x(1)\n",
    "psiPlus.cx(0, 1)\n",
    "psiPlus.draw(\"mpl\")"
   ]
  },
  {
   "cell_type": "code",
   "execution_count": null,
   "id": "e4c0d59e-8f83-4f00-bea1-c6cf608a1544",
   "metadata": {},
   "outputs": [],
   "source": [
    "run_circuit_and_plot_histogram(psiPlus, 'PSI+')"
   ]
  },
  {
   "cell_type": "code",
   "execution_count": null,
   "id": "41bdd4a9-8fba-4b91-b53d-73a77af8ef11",
   "metadata": {},
   "outputs": [],
   "source": [
    "#PSI-\n",
    "psiMinus = QuantumCircuit(2)\n",
    "psiMinus.h(0)\n",
    "psiMinus.z(0)\n",
    "psiMinus.z(1)\n",
    "psiMinus.cx(0, 1)\n",
    "psiMinus.draw(\"mpl\")"
   ]
  },
  {
   "cell_type": "code",
   "execution_count": null,
   "id": "0d46efd1-67bf-48f5-b4ab-48a2ef12a4a4",
   "metadata": {},
   "outputs": [],
   "source": [
    "run_circuit_and_plot_histogram(psiMinus, 'PSI-')"
   ]
  }
 ],
 "metadata": {
  "kernelspec": {
   "display_name": "Python 3 (ipykernel)",
   "language": "python",
   "name": "python3"
  },
  "language_info": {
   "codemirror_mode": {
    "name": "ipython",
    "version": 3
   },
   "file_extension": ".py",
   "mimetype": "text/x-python",
   "name": "python",
   "nbconvert_exporter": "python",
   "pygments_lexer": "ipython3",
   "version": "3.10.6"
  }
 },
 "nbformat": 4,
 "nbformat_minor": 5
}
